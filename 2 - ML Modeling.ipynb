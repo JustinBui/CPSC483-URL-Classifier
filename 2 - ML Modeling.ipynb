{
 "cells": [
  {
   "cell_type": "markdown",
   "id": "d71e8de6",
   "metadata": {},
   "source": [
    "# <font style=\"color:#008fff;\">Machine Learning Modeling</font>\n",
    "<hr>"
   ]
  },
  {
   "cell_type": "code",
   "execution_count": 1,
   "id": "f9ad8828",
   "metadata": {},
   "outputs": [],
   "source": [
    "import pandas as pd\n",
    "import numpy as np\n",
    "import time\n",
    "import os\n",
    "import sklearn\n",
    "import seaborn as sns\n",
    "import matplotlib as mpl\n",
    "import matplotlib.pyplot as plt\n",
    "import warnings\n",
    "import sys\n",
    "import random\n",
    "\n",
    "#Disabling Warnings\n",
    "warnings.filterwarnings('ignore')\n",
    "\n",
    "# to make this notebook's output stable across runs\n",
    "random.seed(42)"
   ]
  },
  {
   "cell_type": "markdown",
   "id": "6177448b",
   "metadata": {},
   "source": [
    "### Reading in preprocessed dataset"
   ]
  },
  {
   "cell_type": "code",
   "execution_count": 2,
   "id": "60cedcb5",
   "metadata": {},
   "outputs": [
    {
     "name": "stdout",
     "output_type": "stream",
     "text": [
      "***Elapsed time to read csv files --- 0.04900360107421875 seconds ---***\n"
     ]
    }
   ],
   "source": [
    "def loadDataset(file_name):\n",
    "    df = pd.read_csv(file_name)\n",
    "    return df\n",
    "\n",
    "start_time= time.time()\n",
    "df_train_preprocessed = loadDataset(\"Dataset/preprocessed_data.csv\")\n",
    "print(\"***Elapsed time to read csv files --- %s seconds ---***\" % (time.time() - start_time))"
   ]
  },
  {
   "cell_type": "code",
   "execution_count": 3,
   "id": "f6dfff35",
   "metadata": {},
   "outputs": [
    {
     "data": {
      "text/html": [
       "<div>\n",
       "<style scoped>\n",
       "    .dataframe tbody tr th:only-of-type {\n",
       "        vertical-align: middle;\n",
       "    }\n",
       "\n",
       "    .dataframe tbody tr th {\n",
       "        vertical-align: top;\n",
       "    }\n",
       "\n",
       "    .dataframe thead th {\n",
       "        text-align: right;\n",
       "    }\n",
       "</style>\n",
       "<table border=\"1\" class=\"dataframe\">\n",
       "  <thead>\n",
       "    <tr style=\"text-align: right;\">\n",
       "      <th></th>\n",
       "      <th>url_vect</th>\n",
       "      <th>is_gov_tld</th>\n",
       "      <th>who_is</th>\n",
       "      <th>https</th>\n",
       "      <th>profanity_score_prob</th>\n",
       "      <th>url_len_scaled</th>\n",
       "      <th>js_len_scaled</th>\n",
       "      <th>js_obf_len_scaled</th>\n",
       "      <th>label</th>\n",
       "    </tr>\n",
       "  </thead>\n",
       "  <tbody>\n",
       "    <tr>\n",
       "      <th>0</th>\n",
       "      <td>0.044</td>\n",
       "      <td>0</td>\n",
       "      <td>0</td>\n",
       "      <td>0</td>\n",
       "      <td>0.901780</td>\n",
       "      <td>0.152542</td>\n",
       "      <td>0.842993</td>\n",
       "      <td>0.663632</td>\n",
       "      <td>1</td>\n",
       "    </tr>\n",
       "    <tr>\n",
       "      <th>1</th>\n",
       "      <td>0.005</td>\n",
       "      <td>0</td>\n",
       "      <td>1</td>\n",
       "      <td>1</td>\n",
       "      <td>0.001813</td>\n",
       "      <td>0.593220</td>\n",
       "      <td>0.097764</td>\n",
       "      <td>0.000000</td>\n",
       "      <td>0</td>\n",
       "    </tr>\n",
       "    <tr>\n",
       "      <th>2</th>\n",
       "      <td>0.033</td>\n",
       "      <td>0</td>\n",
       "      <td>0</td>\n",
       "      <td>0</td>\n",
       "      <td>0.965517</td>\n",
       "      <td>0.864407</td>\n",
       "      <td>0.727081</td>\n",
       "      <td>0.471829</td>\n",
       "      <td>1</td>\n",
       "    </tr>\n",
       "    <tr>\n",
       "      <th>3</th>\n",
       "      <td>0.046</td>\n",
       "      <td>0</td>\n",
       "      <td>1</td>\n",
       "      <td>1</td>\n",
       "      <td>0.049674</td>\n",
       "      <td>0.271186</td>\n",
       "      <td>0.038052</td>\n",
       "      <td>0.000000</td>\n",
       "      <td>0</td>\n",
       "    </tr>\n",
       "    <tr>\n",
       "      <th>4</th>\n",
       "      <td>0.046</td>\n",
       "      <td>0</td>\n",
       "      <td>0</td>\n",
       "      <td>0</td>\n",
       "      <td>0.955261</td>\n",
       "      <td>0.525424</td>\n",
       "      <td>0.600632</td>\n",
       "      <td>0.421721</td>\n",
       "      <td>1</td>\n",
       "    </tr>\n",
       "    <tr>\n",
       "      <th>5</th>\n",
       "      <td>0.017</td>\n",
       "      <td>0</td>\n",
       "      <td>1</td>\n",
       "      <td>1</td>\n",
       "      <td>0.006906</td>\n",
       "      <td>0.745763</td>\n",
       "      <td>0.155719</td>\n",
       "      <td>0.000000</td>\n",
       "      <td>0</td>\n",
       "    </tr>\n",
       "    <tr>\n",
       "      <th>6</th>\n",
       "      <td>0.046</td>\n",
       "      <td>0</td>\n",
       "      <td>0</td>\n",
       "      <td>0</td>\n",
       "      <td>0.925228</td>\n",
       "      <td>0.186441</td>\n",
       "      <td>0.492097</td>\n",
       "      <td>0.240813</td>\n",
       "      <td>1</td>\n",
       "    </tr>\n",
       "    <tr>\n",
       "      <th>7</th>\n",
       "      <td>0.524</td>\n",
       "      <td>0</td>\n",
       "      <td>0</td>\n",
       "      <td>0</td>\n",
       "      <td>0.989416</td>\n",
       "      <td>0.237288</td>\n",
       "      <td>0.393045</td>\n",
       "      <td>0.000000</td>\n",
       "      <td>1</td>\n",
       "    </tr>\n",
       "    <tr>\n",
       "      <th>8</th>\n",
       "      <td>0.046</td>\n",
       "      <td>0</td>\n",
       "      <td>0</td>\n",
       "      <td>0</td>\n",
       "      <td>0.896943</td>\n",
       "      <td>0.254237</td>\n",
       "      <td>0.715490</td>\n",
       "      <td>0.319687</td>\n",
       "      <td>1</td>\n",
       "    </tr>\n",
       "    <tr>\n",
       "      <th>9</th>\n",
       "      <td>0.046</td>\n",
       "      <td>0</td>\n",
       "      <td>0</td>\n",
       "      <td>1</td>\n",
       "      <td>0.007933</td>\n",
       "      <td>0.271186</td>\n",
       "      <td>0.128205</td>\n",
       "      <td>0.000000</td>\n",
       "      <td>0</td>\n",
       "    </tr>\n",
       "  </tbody>\n",
       "</table>\n",
       "</div>"
      ],
      "text/plain": [
       "   url_vect  is_gov_tld  who_is  https  profanity_score_prob  url_len_scaled  \\\n",
       "0     0.044           0       0      0              0.901780        0.152542   \n",
       "1     0.005           0       1      1              0.001813        0.593220   \n",
       "2     0.033           0       0      0              0.965517        0.864407   \n",
       "3     0.046           0       1      1              0.049674        0.271186   \n",
       "4     0.046           0       0      0              0.955261        0.525424   \n",
       "5     0.017           0       1      1              0.006906        0.745763   \n",
       "6     0.046           0       0      0              0.925228        0.186441   \n",
       "7     0.524           0       0      0              0.989416        0.237288   \n",
       "8     0.046           0       0      0              0.896943        0.254237   \n",
       "9     0.046           0       0      1              0.007933        0.271186   \n",
       "\n",
       "   js_len_scaled  js_obf_len_scaled  label  \n",
       "0       0.842993           0.663632      1  \n",
       "1       0.097764           0.000000      0  \n",
       "2       0.727081           0.471829      1  \n",
       "3       0.038052           0.000000      0  \n",
       "4       0.600632           0.421721      1  \n",
       "5       0.155719           0.000000      0  \n",
       "6       0.492097           0.240813      1  \n",
       "7       0.393045           0.000000      1  \n",
       "8       0.715490           0.319687      1  \n",
       "9       0.128205           0.000000      0  "
      ]
     },
     "execution_count": 3,
     "metadata": {},
     "output_type": "execute_result"
    }
   ],
   "source": [
    "df_train_preprocessed.head(10)"
   ]
  },
  {
   "cell_type": "markdown",
   "id": "ec036cb9",
   "metadata": {},
   "source": [
    "### Getting X and y variables from our dataset"
   ]
  },
  {
   "cell_type": "code",
   "execution_count": 6,
   "id": "136f7bf0",
   "metadata": {},
   "outputs": [],
   "source": [
    "X = df_train_preprocessed.drop('label', axis=1)\n",
    "y = df_train_preprocessed['label']"
   ]
  },
  {
   "cell_type": "markdown",
   "id": "3ade7cce",
   "metadata": {},
   "source": [
    "## <font style=\"color:#008fff;\">K-Nearest Neighbors</font>"
   ]
  },
  {
   "cell_type": "markdown",
   "id": "053e3cdd",
   "metadata": {},
   "source": [
    "### Building KNN Model for the FULL feature set:"
   ]
  },
  {
   "cell_type": "code",
   "execution_count": null,
   "id": "ee173ded",
   "metadata": {},
   "outputs": [],
   "source": [
    "from sklearn.neighbors import KNeighborsClassifier\n",
    "\n",
    "knn_full = KNeighborsClassifier(n_neighbors=3)\n",
    "knn_full.fit(X, y)"
   ]
  }
 ],
 "metadata": {
  "kernelspec": {
   "display_name": "Python 3 (ipykernel)",
   "language": "python",
   "name": "python3"
  },
  "language_info": {
   "codemirror_mode": {
    "name": "ipython",
    "version": 3
   },
   "file_extension": ".py",
   "mimetype": "text/x-python",
   "name": "python",
   "nbconvert_exporter": "python",
   "pygments_lexer": "ipython3",
   "version": "3.9.13"
  }
 },
 "nbformat": 4,
 "nbformat_minor": 5
}
