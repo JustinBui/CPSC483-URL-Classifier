{
 "cells": [
  {
   "cell_type": "markdown",
   "id": "d71e8de6",
   "metadata": {},
   "source": [
    "# <font style=\"color:#008fff;\">Machine Learning Modeling</font>\n",
    "<hr>"
   ]
  },
  {
   "cell_type": "code",
   "execution_count": 1,
   "id": "f9ad8828",
   "metadata": {},
   "outputs": [],
   "source": [
    "import pandas as pd\n",
    "import numpy as np\n",
    "import time\n",
    "import os\n",
    "import sklearn\n",
    "import warnings\n",
    "import sys\n",
    "import random\n",
    "import pickle\n",
    "\n",
    "#Disabling Warnings\n",
    "warnings.filterwarnings('ignore')\n",
    "\n",
    "# to make this notebook's output stable across runs\n",
    "random.seed(42)"
   ]
  },
  {
   "cell_type": "markdown",
   "id": "6177448b",
   "metadata": {},
   "source": [
    "## <font style=\"color:#008fff;\">Reading in preprocessed dataset</font>"
   ]
  },
  {
   "cell_type": "code",
   "execution_count": 65,
   "id": "60cedcb5",
   "metadata": {},
   "outputs": [
    {
     "name": "stdout",
     "output_type": "stream",
     "text": [
      "***Elapsed time to read csv files --- 0.08020401000976562 seconds ---***\n"
     ]
    }
   ],
   "source": [
    "def loadDataset(file_name, idx_col=False):\n",
    "    start_time= time.time()\n",
    "    if idx_col:\n",
    "        df = pd.read_csv(file_name, index_col=[0])\n",
    "    else:\n",
    "        df = pd.read_csv(file_name)\n",
    "    print(\"***Elapsed time to read csv files --- %s seconds ---***\" % (time.time() - start_time))\n",
    "    return df\n",
    "\n",
    "\n",
    "df_train_preprocessed = loadDataset(\"Dataset/preprocessed_training_data.csv\")"
   ]
  },
  {
   "cell_type": "code",
   "execution_count": 44,
   "id": "f6dfff35",
   "metadata": {},
   "outputs": [
    {
     "data": {
      "text/html": [
       "<div>\n",
       "<style scoped>\n",
       "    .dataframe tbody tr th:only-of-type {\n",
       "        vertical-align: middle;\n",
       "    }\n",
       "\n",
       "    .dataframe tbody tr th {\n",
       "        vertical-align: top;\n",
       "    }\n",
       "\n",
       "    .dataframe thead th {\n",
       "        text-align: right;\n",
       "    }\n",
       "</style>\n",
       "<table border=\"1\" class=\"dataframe\">\n",
       "  <thead>\n",
       "    <tr style=\"text-align: right;\">\n",
       "      <th></th>\n",
       "      <th>url_vect</th>\n",
       "      <th>is_gov_tld</th>\n",
       "      <th>who_is</th>\n",
       "      <th>https</th>\n",
       "      <th>profanity_score_prob</th>\n",
       "      <th>url_len_scaled</th>\n",
       "      <th>js_len_scaled</th>\n",
       "      <th>js_obf_len_scaled</th>\n",
       "      <th>label</th>\n",
       "    </tr>\n",
       "  </thead>\n",
       "  <tbody>\n",
       "    <tr>\n",
       "      <th>0</th>\n",
       "      <td>0.044</td>\n",
       "      <td>0</td>\n",
       "      <td>0</td>\n",
       "      <td>0</td>\n",
       "      <td>0.901780</td>\n",
       "      <td>0.152542</td>\n",
       "      <td>0.842993</td>\n",
       "      <td>0.663632</td>\n",
       "      <td>1</td>\n",
       "    </tr>\n",
       "    <tr>\n",
       "      <th>1</th>\n",
       "      <td>0.005</td>\n",
       "      <td>0</td>\n",
       "      <td>1</td>\n",
       "      <td>1</td>\n",
       "      <td>0.001813</td>\n",
       "      <td>0.593220</td>\n",
       "      <td>0.097764</td>\n",
       "      <td>0.000000</td>\n",
       "      <td>0</td>\n",
       "    </tr>\n",
       "    <tr>\n",
       "      <th>2</th>\n",
       "      <td>0.033</td>\n",
       "      <td>0</td>\n",
       "      <td>0</td>\n",
       "      <td>0</td>\n",
       "      <td>0.965517</td>\n",
       "      <td>0.864407</td>\n",
       "      <td>0.727081</td>\n",
       "      <td>0.471829</td>\n",
       "      <td>1</td>\n",
       "    </tr>\n",
       "    <tr>\n",
       "      <th>3</th>\n",
       "      <td>0.046</td>\n",
       "      <td>0</td>\n",
       "      <td>1</td>\n",
       "      <td>1</td>\n",
       "      <td>0.049674</td>\n",
       "      <td>0.271186</td>\n",
       "      <td>0.038052</td>\n",
       "      <td>0.000000</td>\n",
       "      <td>0</td>\n",
       "    </tr>\n",
       "    <tr>\n",
       "      <th>4</th>\n",
       "      <td>0.046</td>\n",
       "      <td>0</td>\n",
       "      <td>0</td>\n",
       "      <td>0</td>\n",
       "      <td>0.955261</td>\n",
       "      <td>0.525424</td>\n",
       "      <td>0.600632</td>\n",
       "      <td>0.421721</td>\n",
       "      <td>1</td>\n",
       "    </tr>\n",
       "    <tr>\n",
       "      <th>5</th>\n",
       "      <td>0.017</td>\n",
       "      <td>0</td>\n",
       "      <td>1</td>\n",
       "      <td>1</td>\n",
       "      <td>0.006906</td>\n",
       "      <td>0.745763</td>\n",
       "      <td>0.155719</td>\n",
       "      <td>0.000000</td>\n",
       "      <td>0</td>\n",
       "    </tr>\n",
       "    <tr>\n",
       "      <th>6</th>\n",
       "      <td>0.046</td>\n",
       "      <td>0</td>\n",
       "      <td>0</td>\n",
       "      <td>0</td>\n",
       "      <td>0.925228</td>\n",
       "      <td>0.186441</td>\n",
       "      <td>0.492097</td>\n",
       "      <td>0.240813</td>\n",
       "      <td>1</td>\n",
       "    </tr>\n",
       "    <tr>\n",
       "      <th>7</th>\n",
       "      <td>0.524</td>\n",
       "      <td>0</td>\n",
       "      <td>0</td>\n",
       "      <td>0</td>\n",
       "      <td>0.989416</td>\n",
       "      <td>0.237288</td>\n",
       "      <td>0.393045</td>\n",
       "      <td>0.000000</td>\n",
       "      <td>1</td>\n",
       "    </tr>\n",
       "    <tr>\n",
       "      <th>8</th>\n",
       "      <td>0.046</td>\n",
       "      <td>0</td>\n",
       "      <td>0</td>\n",
       "      <td>0</td>\n",
       "      <td>0.896943</td>\n",
       "      <td>0.254237</td>\n",
       "      <td>0.715490</td>\n",
       "      <td>0.319687</td>\n",
       "      <td>1</td>\n",
       "    </tr>\n",
       "    <tr>\n",
       "      <th>9</th>\n",
       "      <td>0.046</td>\n",
       "      <td>0</td>\n",
       "      <td>0</td>\n",
       "      <td>1</td>\n",
       "      <td>0.007933</td>\n",
       "      <td>0.271186</td>\n",
       "      <td>0.128205</td>\n",
       "      <td>0.000000</td>\n",
       "      <td>0</td>\n",
       "    </tr>\n",
       "  </tbody>\n",
       "</table>\n",
       "</div>"
      ],
      "text/plain": [
       "   url_vect  is_gov_tld  who_is  https  profanity_score_prob  url_len_scaled  \\\n",
       "0     0.044           0       0      0              0.901780        0.152542   \n",
       "1     0.005           0       1      1              0.001813        0.593220   \n",
       "2     0.033           0       0      0              0.965517        0.864407   \n",
       "3     0.046           0       1      1              0.049674        0.271186   \n",
       "4     0.046           0       0      0              0.955261        0.525424   \n",
       "5     0.017           0       1      1              0.006906        0.745763   \n",
       "6     0.046           0       0      0              0.925228        0.186441   \n",
       "7     0.524           0       0      0              0.989416        0.237288   \n",
       "8     0.046           0       0      0              0.896943        0.254237   \n",
       "9     0.046           0       0      1              0.007933        0.271186   \n",
       "\n",
       "   js_len_scaled  js_obf_len_scaled  label  \n",
       "0       0.842993           0.663632      1  \n",
       "1       0.097764           0.000000      0  \n",
       "2       0.727081           0.471829      1  \n",
       "3       0.038052           0.000000      0  \n",
       "4       0.600632           0.421721      1  \n",
       "5       0.155719           0.000000      0  \n",
       "6       0.492097           0.240813      1  \n",
       "7       0.393045           0.000000      1  \n",
       "8       0.715490           0.319687      1  \n",
       "9       0.128205           0.000000      0  "
      ]
     },
     "execution_count": 44,
     "metadata": {},
     "output_type": "execute_result"
    }
   ],
   "source": [
    "df_train_preprocessed.head(10)"
   ]
  },
  {
   "cell_type": "markdown",
   "id": "463ae18a",
   "metadata": {},
   "source": [
    "### Split our dataset into X_train and y_train"
   ]
  },
  {
   "cell_type": "code",
   "execution_count": 4,
   "id": "8ec5f486",
   "metadata": {},
   "outputs": [],
   "source": [
    "X_train = df_train_preprocessed.drop('label', axis=1)\n",
    "y_train = df_train_preprocessed['label']"
   ]
  },
  {
   "cell_type": "code",
   "execution_count": 5,
   "id": "3dede5d6",
   "metadata": {},
   "outputs": [
    {
     "data": {
      "text/plain": [
       "((54506, 8), (54506,))"
      ]
     },
     "execution_count": 5,
     "metadata": {},
     "output_type": "execute_result"
    }
   ],
   "source": [
    "X_train.shape, y_train.shape"
   ]
  },
  {
   "cell_type": "markdown",
   "id": "d350def4",
   "metadata": {},
   "source": [
    "## <font style=\"color:#008fff;\">Feature Selection</font>\n",
    "\n",
    "There are a handful of feature selection methods in Scikit-Learn with classification. According to Sklearn's documentation, common feature selection algorithms include `chi2`, `f_classif`, and `mutual_info_classif` (https://scikit-learn.org/stable/modules/feature_selection.html)\n",
    " - We will try out the 3 we see in this documentation to see which features are most commonly chosen\n",
    "\n",
    "**Other Potential Feature Selection methods to experiment in the future: Mean Absolute Difference, Fisher Score, different method from scratch**"
   ]
  },
  {
   "cell_type": "code",
   "execution_count": 6,
   "id": "74a58f0b",
   "metadata": {},
   "outputs": [],
   "source": [
    "# Importing feature selection\n",
    "from sklearn.feature_selection import SelectKBest\n",
    "from sklearn.feature_selection import chi2, f_classif, mutual_info_classif"
   ]
  },
  {
   "cell_type": "markdown",
   "id": "011f9e70",
   "metadata": {},
   "source": [
    "### Feature selection using Sklearn's chi-squared:"
   ]
  },
  {
   "cell_type": "code",
   "execution_count": 7,
   "id": "fd0840ba",
   "metadata": {},
   "outputs": [
    {
     "name": "stdout",
     "output_type": "stream",
     "text": [
      "Out of 8 features in our original dataset, we get the top 5 chosen by chi2\n",
      "Top 5 features selected using chi-squared: ['who_is', 'https', 'profanity_score_prob', 'js_len_scaled', 'js_obf_len_scaled']\n"
     ]
    }
   ],
   "source": [
    "# Taking the top 5 most best descriptive features using chi-squared testing\n",
    "chi2_selector = SelectKBest(chi2, k=5)\n",
    "X_kbest_chi2 = chi2_selector.fit_transform(X_train, y_train)\n",
    "\n",
    "print(f'Out of {X_train.shape[1]} features in our original dataset, we get the top {X_kbest_chi2.shape[1]} chosen by chi2')\n",
    "\n",
    "# Showing which columns chi2 has chosen\n",
    "selected_features_chi2 = chi2_selector.get_support(indices=True)\n",
    "print(f'Top 5 features selected using chi-squared: {list(X_train.iloc[:, selected_features_chi2].columns)}')"
   ]
  },
  {
   "cell_type": "markdown",
   "id": "599a7697",
   "metadata": {},
   "source": [
    "### Feature selection using Sklearn's f_classif"
   ]
  },
  {
   "cell_type": "code",
   "execution_count": 8,
   "id": "02a478b0",
   "metadata": {},
   "outputs": [
    {
     "name": "stdout",
     "output_type": "stream",
     "text": [
      "Out of 8 features in our original dataset, we get the top 5 chosen by f_classif\n",
      "Top 5 features selected using f_classif: ['who_is', 'https', 'profanity_score_prob', 'js_len_scaled', 'js_obf_len_scaled']\n"
     ]
    }
   ],
   "source": [
    "# Taking the top 5 best descriptive feature using f classification\n",
    "f_classif_selector = SelectKBest(f_classif, k=5)\n",
    "X_kbest_f_classif = f_classif_selector.fit_transform(X_train, y_train)\n",
    "\n",
    "print(f'Out of {X_train.shape[1]} features in our original dataset, we get the top {X_kbest_f_classif.shape[1]} chosen by f_classif')\n",
    "\n",
    "# Showing which columns f_classif has chosen\n",
    "selected_features_f_classif = f_classif_selector.get_support(indices=True)\n",
    "print(f'Top 5 features selected using f_classif: {list(X_train.iloc[:, selected_features_f_classif].columns)}')"
   ]
  },
  {
   "cell_type": "markdown",
   "id": "7e75346c",
   "metadata": {},
   "source": [
    "### Feature selection using Sklearn's mutual_info_classif"
   ]
  },
  {
   "cell_type": "code",
   "execution_count": 9,
   "id": "c010da18",
   "metadata": {},
   "outputs": [
    {
     "name": "stdout",
     "output_type": "stream",
     "text": [
      "Out of 8 features in our original dataset, we get the top 5 chosen by mutual_info_classif\n",
      "Top 5 features selected using f_classif: ['who_is', 'https', 'profanity_score_prob', 'js_len_scaled', 'js_obf_len_scaled']\n"
     ]
    }
   ],
   "source": [
    "# Taking the top 5 best descriptive feature using mutual info classif\n",
    "MIC_selector = SelectKBest(mutual_info_classif, k=5)\n",
    "X_kbest_MIC = MIC_selector.fit_transform(X_train, y_train)\n",
    "\n",
    "print(f'Out of {X_train.shape[1]} features in our original dataset, we get the top {X_kbest_MIC.shape[1]} chosen by mutual_info_classif')\n",
    "\n",
    "# Showing which columns f_classif has chosen\n",
    "selected_features_MIC = MIC_selector.get_support(indices=True)\n",
    "print(f'Top 5 features selected using f_classif: {list(X_train.iloc[:, selected_features_MIC].columns)}')"
   ]
  },
  {
   "cell_type": "markdown",
   "id": "44fe74a3",
   "metadata": {},
   "source": [
    "### It seems that all 3 methods from scikit-learn all chose 'who_is', 'https', 'profanity_score_prob', 'js_len_scaled',  and 'js_obf_len_scaled' as their top 5 features. We will be using this for now."
   ]
  },
  {
   "cell_type": "code",
   "execution_count": 10,
   "id": "e23686a4",
   "metadata": {},
   "outputs": [
    {
     "data": {
      "text/plain": [
       "array([[0.00000000e+00, 0.00000000e+00, 9.01780298e-01, 8.42992624e-01,\n",
       "        6.63632491e-01],\n",
       "       [1.00000000e+00, 1.00000000e+00, 1.81264953e-03, 9.77637279e-02,\n",
       "        0.00000000e+00],\n",
       "       [0.00000000e+00, 0.00000000e+00, 9.65517263e-01, 7.27081138e-01,\n",
       "        4.71829249e-01],\n",
       "       ...,\n",
       "       [1.00000000e+00, 1.00000000e+00, 7.20261896e-04, 4.27350427e-02,\n",
       "        0.00000000e+00],\n",
       "       [1.00000000e+00, 1.00000000e+00, 9.36110254e-03, 2.19529329e-01,\n",
       "        0.00000000e+00],\n",
       "       [0.00000000e+00, 0.00000000e+00, 9.72637009e-01, 4.19388830e-01,\n",
       "        1.96309665e-01]])"
      ]
     },
     "execution_count": 10,
     "metadata": {},
     "output_type": "execute_result"
    }
   ],
   "source": [
    "X_kbest_features_train = X_kbest_chi2\n",
    "X_kbest_features_train"
   ]
  },
  {
   "cell_type": "markdown",
   "id": "161d1602",
   "metadata": {},
   "source": [
    "## <font style=\"color:#008fff;\">ML Modeling: K-Nearest Neighbors</font>"
   ]
  },
  {
   "cell_type": "markdown",
   "id": "65f6a819",
   "metadata": {},
   "source": [
    "### Building KNN Model for the FULL feature set (X_train):"
   ]
  },
  {
   "cell_type": "code",
   "execution_count": 11,
   "id": "7ad7d17a",
   "metadata": {},
   "outputs": [
    {
     "data": {
      "text/html": [
       "<style>#sk-container-id-1 {color: black;background-color: white;}#sk-container-id-1 pre{padding: 0;}#sk-container-id-1 div.sk-toggleable {background-color: white;}#sk-container-id-1 label.sk-toggleable__label {cursor: pointer;display: block;width: 100%;margin-bottom: 0;padding: 0.3em;box-sizing: border-box;text-align: center;}#sk-container-id-1 label.sk-toggleable__label-arrow:before {content: \"▸\";float: left;margin-right: 0.25em;color: #696969;}#sk-container-id-1 label.sk-toggleable__label-arrow:hover:before {color: black;}#sk-container-id-1 div.sk-estimator:hover label.sk-toggleable__label-arrow:before {color: black;}#sk-container-id-1 div.sk-toggleable__content {max-height: 0;max-width: 0;overflow: hidden;text-align: left;background-color: #f0f8ff;}#sk-container-id-1 div.sk-toggleable__content pre {margin: 0.2em;color: black;border-radius: 0.25em;background-color: #f0f8ff;}#sk-container-id-1 input.sk-toggleable__control:checked~div.sk-toggleable__content {max-height: 200px;max-width: 100%;overflow: auto;}#sk-container-id-1 input.sk-toggleable__control:checked~label.sk-toggleable__label-arrow:before {content: \"▾\";}#sk-container-id-1 div.sk-estimator input.sk-toggleable__control:checked~label.sk-toggleable__label {background-color: #d4ebff;}#sk-container-id-1 div.sk-label input.sk-toggleable__control:checked~label.sk-toggleable__label {background-color: #d4ebff;}#sk-container-id-1 input.sk-hidden--visually {border: 0;clip: rect(1px 1px 1px 1px);clip: rect(1px, 1px, 1px, 1px);height: 1px;margin: -1px;overflow: hidden;padding: 0;position: absolute;width: 1px;}#sk-container-id-1 div.sk-estimator {font-family: monospace;background-color: #f0f8ff;border: 1px dotted black;border-radius: 0.25em;box-sizing: border-box;margin-bottom: 0.5em;}#sk-container-id-1 div.sk-estimator:hover {background-color: #d4ebff;}#sk-container-id-1 div.sk-parallel-item::after {content: \"\";width: 100%;border-bottom: 1px solid gray;flex-grow: 1;}#sk-container-id-1 div.sk-label:hover label.sk-toggleable__label {background-color: #d4ebff;}#sk-container-id-1 div.sk-serial::before {content: \"\";position: absolute;border-left: 1px solid gray;box-sizing: border-box;top: 0;bottom: 0;left: 50%;z-index: 0;}#sk-container-id-1 div.sk-serial {display: flex;flex-direction: column;align-items: center;background-color: white;padding-right: 0.2em;padding-left: 0.2em;position: relative;}#sk-container-id-1 div.sk-item {position: relative;z-index: 1;}#sk-container-id-1 div.sk-parallel {display: flex;align-items: stretch;justify-content: center;background-color: white;position: relative;}#sk-container-id-1 div.sk-item::before, #sk-container-id-1 div.sk-parallel-item::before {content: \"\";position: absolute;border-left: 1px solid gray;box-sizing: border-box;top: 0;bottom: 0;left: 50%;z-index: -1;}#sk-container-id-1 div.sk-parallel-item {display: flex;flex-direction: column;z-index: 1;position: relative;background-color: white;}#sk-container-id-1 div.sk-parallel-item:first-child::after {align-self: flex-end;width: 50%;}#sk-container-id-1 div.sk-parallel-item:last-child::after {align-self: flex-start;width: 50%;}#sk-container-id-1 div.sk-parallel-item:only-child::after {width: 0;}#sk-container-id-1 div.sk-dashed-wrapped {border: 1px dashed gray;margin: 0 0.4em 0.5em 0.4em;box-sizing: border-box;padding-bottom: 0.4em;background-color: white;}#sk-container-id-1 div.sk-label label {font-family: monospace;font-weight: bold;display: inline-block;line-height: 1.2em;}#sk-container-id-1 div.sk-label-container {text-align: center;}#sk-container-id-1 div.sk-container {/* jupyter's `normalize.less` sets `[hidden] { display: none; }` but bootstrap.min.css set `[hidden] { display: none !important; }` so we also need the `!important` here to be able to override the default hidden behavior on the sphinx rendered scikit-learn.org. See: https://github.com/scikit-learn/scikit-learn/issues/21755 */display: inline-block !important;position: relative;}#sk-container-id-1 div.sk-text-repr-fallback {display: none;}</style><div id=\"sk-container-id-1\" class=\"sk-top-container\"><div class=\"sk-text-repr-fallback\"><pre>KNeighborsClassifier(n_neighbors=3)</pre><b>In a Jupyter environment, please rerun this cell to show the HTML representation or trust the notebook. <br />On GitHub, the HTML representation is unable to render, please try loading this page with nbviewer.org.</b></div><div class=\"sk-container\" hidden><div class=\"sk-item\"><div class=\"sk-estimator sk-toggleable\"><input class=\"sk-toggleable__control sk-hidden--visually\" id=\"sk-estimator-id-1\" type=\"checkbox\" checked><label for=\"sk-estimator-id-1\" class=\"sk-toggleable__label sk-toggleable__label-arrow\">KNeighborsClassifier</label><div class=\"sk-toggleable__content\"><pre>KNeighborsClassifier(n_neighbors=3)</pre></div></div></div></div></div>"
      ],
      "text/plain": [
       "KNeighborsClassifier(n_neighbors=3)"
      ]
     },
     "execution_count": 11,
     "metadata": {},
     "output_type": "execute_result"
    }
   ],
   "source": [
    "from sklearn.neighbors import KNeighborsClassifier\n",
    "\n",
    "knn_full = KNeighborsClassifier(n_neighbors=3)\n",
    "knn_full.fit(X_train.values, y_train.values)"
   ]
  },
  {
   "cell_type": "code",
   "execution_count": 12,
   "id": "2f424714",
   "metadata": {},
   "outputs": [],
   "source": [
    "# Save the model to disk\n",
    "knn_full_filename = 'Models/knn_full_features.sav'\n",
    "pickle.dump(knn_full, open(knn_full_filename, 'wb'))"
   ]
  },
  {
   "cell_type": "markdown",
   "id": "d0ec0670",
   "metadata": {},
   "source": [
    "### Building KNN Model for the feature set after FEATURE SELECTION (X_kbest_features_train):"
   ]
  },
  {
   "cell_type": "code",
   "execution_count": 13,
   "id": "343eacca",
   "metadata": {},
   "outputs": [
    {
     "data": {
      "text/html": [
       "<style>#sk-container-id-2 {color: black;background-color: white;}#sk-container-id-2 pre{padding: 0;}#sk-container-id-2 div.sk-toggleable {background-color: white;}#sk-container-id-2 label.sk-toggleable__label {cursor: pointer;display: block;width: 100%;margin-bottom: 0;padding: 0.3em;box-sizing: border-box;text-align: center;}#sk-container-id-2 label.sk-toggleable__label-arrow:before {content: \"▸\";float: left;margin-right: 0.25em;color: #696969;}#sk-container-id-2 label.sk-toggleable__label-arrow:hover:before {color: black;}#sk-container-id-2 div.sk-estimator:hover label.sk-toggleable__label-arrow:before {color: black;}#sk-container-id-2 div.sk-toggleable__content {max-height: 0;max-width: 0;overflow: hidden;text-align: left;background-color: #f0f8ff;}#sk-container-id-2 div.sk-toggleable__content pre {margin: 0.2em;color: black;border-radius: 0.25em;background-color: #f0f8ff;}#sk-container-id-2 input.sk-toggleable__control:checked~div.sk-toggleable__content {max-height: 200px;max-width: 100%;overflow: auto;}#sk-container-id-2 input.sk-toggleable__control:checked~label.sk-toggleable__label-arrow:before {content: \"▾\";}#sk-container-id-2 div.sk-estimator input.sk-toggleable__control:checked~label.sk-toggleable__label {background-color: #d4ebff;}#sk-container-id-2 div.sk-label input.sk-toggleable__control:checked~label.sk-toggleable__label {background-color: #d4ebff;}#sk-container-id-2 input.sk-hidden--visually {border: 0;clip: rect(1px 1px 1px 1px);clip: rect(1px, 1px, 1px, 1px);height: 1px;margin: -1px;overflow: hidden;padding: 0;position: absolute;width: 1px;}#sk-container-id-2 div.sk-estimator {font-family: monospace;background-color: #f0f8ff;border: 1px dotted black;border-radius: 0.25em;box-sizing: border-box;margin-bottom: 0.5em;}#sk-container-id-2 div.sk-estimator:hover {background-color: #d4ebff;}#sk-container-id-2 div.sk-parallel-item::after {content: \"\";width: 100%;border-bottom: 1px solid gray;flex-grow: 1;}#sk-container-id-2 div.sk-label:hover label.sk-toggleable__label {background-color: #d4ebff;}#sk-container-id-2 div.sk-serial::before {content: \"\";position: absolute;border-left: 1px solid gray;box-sizing: border-box;top: 0;bottom: 0;left: 50%;z-index: 0;}#sk-container-id-2 div.sk-serial {display: flex;flex-direction: column;align-items: center;background-color: white;padding-right: 0.2em;padding-left: 0.2em;position: relative;}#sk-container-id-2 div.sk-item {position: relative;z-index: 1;}#sk-container-id-2 div.sk-parallel {display: flex;align-items: stretch;justify-content: center;background-color: white;position: relative;}#sk-container-id-2 div.sk-item::before, #sk-container-id-2 div.sk-parallel-item::before {content: \"\";position: absolute;border-left: 1px solid gray;box-sizing: border-box;top: 0;bottom: 0;left: 50%;z-index: -1;}#sk-container-id-2 div.sk-parallel-item {display: flex;flex-direction: column;z-index: 1;position: relative;background-color: white;}#sk-container-id-2 div.sk-parallel-item:first-child::after {align-self: flex-end;width: 50%;}#sk-container-id-2 div.sk-parallel-item:last-child::after {align-self: flex-start;width: 50%;}#sk-container-id-2 div.sk-parallel-item:only-child::after {width: 0;}#sk-container-id-2 div.sk-dashed-wrapped {border: 1px dashed gray;margin: 0 0.4em 0.5em 0.4em;box-sizing: border-box;padding-bottom: 0.4em;background-color: white;}#sk-container-id-2 div.sk-label label {font-family: monospace;font-weight: bold;display: inline-block;line-height: 1.2em;}#sk-container-id-2 div.sk-label-container {text-align: center;}#sk-container-id-2 div.sk-container {/* jupyter's `normalize.less` sets `[hidden] { display: none; }` but bootstrap.min.css set `[hidden] { display: none !important; }` so we also need the `!important` here to be able to override the default hidden behavior on the sphinx rendered scikit-learn.org. See: https://github.com/scikit-learn/scikit-learn/issues/21755 */display: inline-block !important;position: relative;}#sk-container-id-2 div.sk-text-repr-fallback {display: none;}</style><div id=\"sk-container-id-2\" class=\"sk-top-container\"><div class=\"sk-text-repr-fallback\"><pre>KNeighborsClassifier(n_neighbors=3)</pre><b>In a Jupyter environment, please rerun this cell to show the HTML representation or trust the notebook. <br />On GitHub, the HTML representation is unable to render, please try loading this page with nbviewer.org.</b></div><div class=\"sk-container\" hidden><div class=\"sk-item\"><div class=\"sk-estimator sk-toggleable\"><input class=\"sk-toggleable__control sk-hidden--visually\" id=\"sk-estimator-id-2\" type=\"checkbox\" checked><label for=\"sk-estimator-id-2\" class=\"sk-toggleable__label sk-toggleable__label-arrow\">KNeighborsClassifier</label><div class=\"sk-toggleable__content\"><pre>KNeighborsClassifier(n_neighbors=3)</pre></div></div></div></div></div>"
      ],
      "text/plain": [
       "KNeighborsClassifier(n_neighbors=3)"
      ]
     },
     "execution_count": 13,
     "metadata": {},
     "output_type": "execute_result"
    }
   ],
   "source": [
    "# KNN with reduced features\n",
    "knn_reduced = KNeighborsClassifier(n_neighbors=3)\n",
    "knn_reduced.fit(X_kbest_features_train, y_train.values)"
   ]
  },
  {
   "cell_type": "code",
   "execution_count": 14,
   "id": "ec27c260",
   "metadata": {},
   "outputs": [],
   "source": [
    "# Save the model to disk\n",
    "knn_reduced_filename = 'Models/knn_reduced_features.sav'\n",
    "pickle.dump(knn_reduced, open(knn_reduced_filename, 'wb'))"
   ]
  },
  {
   "cell_type": "markdown",
   "id": "4765ad3c",
   "metadata": {},
   "source": [
    "## <font style=\"color:#008fff;\">ML Modeling: (Gaussian) Naive Bayes</font>"
   ]
  },
  {
   "cell_type": "markdown",
   "id": "4b5e1af2",
   "metadata": {},
   "source": [
    "### Building Naive Bayes Model for the FULL feature set:"
   ]
  },
  {
   "cell_type": "code",
   "execution_count": 15,
   "id": "278b3be6",
   "metadata": {},
   "outputs": [
    {
     "data": {
      "text/html": [
       "<style>#sk-container-id-3 {color: black;background-color: white;}#sk-container-id-3 pre{padding: 0;}#sk-container-id-3 div.sk-toggleable {background-color: white;}#sk-container-id-3 label.sk-toggleable__label {cursor: pointer;display: block;width: 100%;margin-bottom: 0;padding: 0.3em;box-sizing: border-box;text-align: center;}#sk-container-id-3 label.sk-toggleable__label-arrow:before {content: \"▸\";float: left;margin-right: 0.25em;color: #696969;}#sk-container-id-3 label.sk-toggleable__label-arrow:hover:before {color: black;}#sk-container-id-3 div.sk-estimator:hover label.sk-toggleable__label-arrow:before {color: black;}#sk-container-id-3 div.sk-toggleable__content {max-height: 0;max-width: 0;overflow: hidden;text-align: left;background-color: #f0f8ff;}#sk-container-id-3 div.sk-toggleable__content pre {margin: 0.2em;color: black;border-radius: 0.25em;background-color: #f0f8ff;}#sk-container-id-3 input.sk-toggleable__control:checked~div.sk-toggleable__content {max-height: 200px;max-width: 100%;overflow: auto;}#sk-container-id-3 input.sk-toggleable__control:checked~label.sk-toggleable__label-arrow:before {content: \"▾\";}#sk-container-id-3 div.sk-estimator input.sk-toggleable__control:checked~label.sk-toggleable__label {background-color: #d4ebff;}#sk-container-id-3 div.sk-label input.sk-toggleable__control:checked~label.sk-toggleable__label {background-color: #d4ebff;}#sk-container-id-3 input.sk-hidden--visually {border: 0;clip: rect(1px 1px 1px 1px);clip: rect(1px, 1px, 1px, 1px);height: 1px;margin: -1px;overflow: hidden;padding: 0;position: absolute;width: 1px;}#sk-container-id-3 div.sk-estimator {font-family: monospace;background-color: #f0f8ff;border: 1px dotted black;border-radius: 0.25em;box-sizing: border-box;margin-bottom: 0.5em;}#sk-container-id-3 div.sk-estimator:hover {background-color: #d4ebff;}#sk-container-id-3 div.sk-parallel-item::after {content: \"\";width: 100%;border-bottom: 1px solid gray;flex-grow: 1;}#sk-container-id-3 div.sk-label:hover label.sk-toggleable__label {background-color: #d4ebff;}#sk-container-id-3 div.sk-serial::before {content: \"\";position: absolute;border-left: 1px solid gray;box-sizing: border-box;top: 0;bottom: 0;left: 50%;z-index: 0;}#sk-container-id-3 div.sk-serial {display: flex;flex-direction: column;align-items: center;background-color: white;padding-right: 0.2em;padding-left: 0.2em;position: relative;}#sk-container-id-3 div.sk-item {position: relative;z-index: 1;}#sk-container-id-3 div.sk-parallel {display: flex;align-items: stretch;justify-content: center;background-color: white;position: relative;}#sk-container-id-3 div.sk-item::before, #sk-container-id-3 div.sk-parallel-item::before {content: \"\";position: absolute;border-left: 1px solid gray;box-sizing: border-box;top: 0;bottom: 0;left: 50%;z-index: -1;}#sk-container-id-3 div.sk-parallel-item {display: flex;flex-direction: column;z-index: 1;position: relative;background-color: white;}#sk-container-id-3 div.sk-parallel-item:first-child::after {align-self: flex-end;width: 50%;}#sk-container-id-3 div.sk-parallel-item:last-child::after {align-self: flex-start;width: 50%;}#sk-container-id-3 div.sk-parallel-item:only-child::after {width: 0;}#sk-container-id-3 div.sk-dashed-wrapped {border: 1px dashed gray;margin: 0 0.4em 0.5em 0.4em;box-sizing: border-box;padding-bottom: 0.4em;background-color: white;}#sk-container-id-3 div.sk-label label {font-family: monospace;font-weight: bold;display: inline-block;line-height: 1.2em;}#sk-container-id-3 div.sk-label-container {text-align: center;}#sk-container-id-3 div.sk-container {/* jupyter's `normalize.less` sets `[hidden] { display: none; }` but bootstrap.min.css set `[hidden] { display: none !important; }` so we also need the `!important` here to be able to override the default hidden behavior on the sphinx rendered scikit-learn.org. See: https://github.com/scikit-learn/scikit-learn/issues/21755 */display: inline-block !important;position: relative;}#sk-container-id-3 div.sk-text-repr-fallback {display: none;}</style><div id=\"sk-container-id-3\" class=\"sk-top-container\"><div class=\"sk-text-repr-fallback\"><pre>GaussianNB()</pre><b>In a Jupyter environment, please rerun this cell to show the HTML representation or trust the notebook. <br />On GitHub, the HTML representation is unable to render, please try loading this page with nbviewer.org.</b></div><div class=\"sk-container\" hidden><div class=\"sk-item\"><div class=\"sk-estimator sk-toggleable\"><input class=\"sk-toggleable__control sk-hidden--visually\" id=\"sk-estimator-id-3\" type=\"checkbox\" checked><label for=\"sk-estimator-id-3\" class=\"sk-toggleable__label sk-toggleable__label-arrow\">GaussianNB</label><div class=\"sk-toggleable__content\"><pre>GaussianNB()</pre></div></div></div></div></div>"
      ],
      "text/plain": [
       "GaussianNB()"
      ]
     },
     "execution_count": 15,
     "metadata": {},
     "output_type": "execute_result"
    }
   ],
   "source": [
    "from sklearn.naive_bayes import GaussianNB\n",
    "\n",
    "gnb_full = GaussianNB()\n",
    "gnb_full.fit(X_train.values, y_train.values)"
   ]
  },
  {
   "cell_type": "code",
   "execution_count": 16,
   "id": "7c864ba8",
   "metadata": {},
   "outputs": [],
   "source": [
    "# Save the model to disk\n",
    "gnb_full_filename = 'Models/gnb_full_features.sav'\n",
    "pickle.dump(gnb_full, open(gnb_full_filename, 'wb'))"
   ]
  },
  {
   "cell_type": "markdown",
   "id": "2584ed08",
   "metadata": {},
   "source": [
    "### Building Naive Bayes Model for the feature set after FEATURE SELECTION:"
   ]
  },
  {
   "cell_type": "code",
   "execution_count": 17,
   "id": "b9911d3d",
   "metadata": {},
   "outputs": [
    {
     "data": {
      "text/html": [
       "<style>#sk-container-id-4 {color: black;background-color: white;}#sk-container-id-4 pre{padding: 0;}#sk-container-id-4 div.sk-toggleable {background-color: white;}#sk-container-id-4 label.sk-toggleable__label {cursor: pointer;display: block;width: 100%;margin-bottom: 0;padding: 0.3em;box-sizing: border-box;text-align: center;}#sk-container-id-4 label.sk-toggleable__label-arrow:before {content: \"▸\";float: left;margin-right: 0.25em;color: #696969;}#sk-container-id-4 label.sk-toggleable__label-arrow:hover:before {color: black;}#sk-container-id-4 div.sk-estimator:hover label.sk-toggleable__label-arrow:before {color: black;}#sk-container-id-4 div.sk-toggleable__content {max-height: 0;max-width: 0;overflow: hidden;text-align: left;background-color: #f0f8ff;}#sk-container-id-4 div.sk-toggleable__content pre {margin: 0.2em;color: black;border-radius: 0.25em;background-color: #f0f8ff;}#sk-container-id-4 input.sk-toggleable__control:checked~div.sk-toggleable__content {max-height: 200px;max-width: 100%;overflow: auto;}#sk-container-id-4 input.sk-toggleable__control:checked~label.sk-toggleable__label-arrow:before {content: \"▾\";}#sk-container-id-4 div.sk-estimator input.sk-toggleable__control:checked~label.sk-toggleable__label {background-color: #d4ebff;}#sk-container-id-4 div.sk-label input.sk-toggleable__control:checked~label.sk-toggleable__label {background-color: #d4ebff;}#sk-container-id-4 input.sk-hidden--visually {border: 0;clip: rect(1px 1px 1px 1px);clip: rect(1px, 1px, 1px, 1px);height: 1px;margin: -1px;overflow: hidden;padding: 0;position: absolute;width: 1px;}#sk-container-id-4 div.sk-estimator {font-family: monospace;background-color: #f0f8ff;border: 1px dotted black;border-radius: 0.25em;box-sizing: border-box;margin-bottom: 0.5em;}#sk-container-id-4 div.sk-estimator:hover {background-color: #d4ebff;}#sk-container-id-4 div.sk-parallel-item::after {content: \"\";width: 100%;border-bottom: 1px solid gray;flex-grow: 1;}#sk-container-id-4 div.sk-label:hover label.sk-toggleable__label {background-color: #d4ebff;}#sk-container-id-4 div.sk-serial::before {content: \"\";position: absolute;border-left: 1px solid gray;box-sizing: border-box;top: 0;bottom: 0;left: 50%;z-index: 0;}#sk-container-id-4 div.sk-serial {display: flex;flex-direction: column;align-items: center;background-color: white;padding-right: 0.2em;padding-left: 0.2em;position: relative;}#sk-container-id-4 div.sk-item {position: relative;z-index: 1;}#sk-container-id-4 div.sk-parallel {display: flex;align-items: stretch;justify-content: center;background-color: white;position: relative;}#sk-container-id-4 div.sk-item::before, #sk-container-id-4 div.sk-parallel-item::before {content: \"\";position: absolute;border-left: 1px solid gray;box-sizing: border-box;top: 0;bottom: 0;left: 50%;z-index: -1;}#sk-container-id-4 div.sk-parallel-item {display: flex;flex-direction: column;z-index: 1;position: relative;background-color: white;}#sk-container-id-4 div.sk-parallel-item:first-child::after {align-self: flex-end;width: 50%;}#sk-container-id-4 div.sk-parallel-item:last-child::after {align-self: flex-start;width: 50%;}#sk-container-id-4 div.sk-parallel-item:only-child::after {width: 0;}#sk-container-id-4 div.sk-dashed-wrapped {border: 1px dashed gray;margin: 0 0.4em 0.5em 0.4em;box-sizing: border-box;padding-bottom: 0.4em;background-color: white;}#sk-container-id-4 div.sk-label label {font-family: monospace;font-weight: bold;display: inline-block;line-height: 1.2em;}#sk-container-id-4 div.sk-label-container {text-align: center;}#sk-container-id-4 div.sk-container {/* jupyter's `normalize.less` sets `[hidden] { display: none; }` but bootstrap.min.css set `[hidden] { display: none !important; }` so we also need the `!important` here to be able to override the default hidden behavior on the sphinx rendered scikit-learn.org. See: https://github.com/scikit-learn/scikit-learn/issues/21755 */display: inline-block !important;position: relative;}#sk-container-id-4 div.sk-text-repr-fallback {display: none;}</style><div id=\"sk-container-id-4\" class=\"sk-top-container\"><div class=\"sk-text-repr-fallback\"><pre>GaussianNB()</pre><b>In a Jupyter environment, please rerun this cell to show the HTML representation or trust the notebook. <br />On GitHub, the HTML representation is unable to render, please try loading this page with nbviewer.org.</b></div><div class=\"sk-container\" hidden><div class=\"sk-item\"><div class=\"sk-estimator sk-toggleable\"><input class=\"sk-toggleable__control sk-hidden--visually\" id=\"sk-estimator-id-4\" type=\"checkbox\" checked><label for=\"sk-estimator-id-4\" class=\"sk-toggleable__label sk-toggleable__label-arrow\">GaussianNB</label><div class=\"sk-toggleable__content\"><pre>GaussianNB()</pre></div></div></div></div></div>"
      ],
      "text/plain": [
       "GaussianNB()"
      ]
     },
     "execution_count": 17,
     "metadata": {},
     "output_type": "execute_result"
    }
   ],
   "source": [
    "gnb_reduced = GaussianNB()\n",
    "gnb_reduced.fit(X_kbest_features_train, y_train.values)"
   ]
  },
  {
   "cell_type": "code",
   "execution_count": 18,
   "id": "6cb37bd9",
   "metadata": {},
   "outputs": [],
   "source": [
    "# Save the model to disk\n",
    "gnb_reduced_filename = 'Models/gnb_reduced_features.sav'\n",
    "pickle.dump(gnb_reduced, open(gnb_reduced_filename, 'wb'))"
   ]
  },
  {
   "cell_type": "markdown",
   "id": "793fa4c2",
   "metadata": {},
   "source": [
    "## <font style=\"color:#008fff;\">ML Modeling: Decision Tree</font> "
   ]
  },
  {
   "cell_type": "markdown",
   "id": "4dbfe409",
   "metadata": {},
   "source": [
    "### Building Decision Tree Model for the FULL feature set:"
   ]
  },
  {
   "cell_type": "code",
   "execution_count": 19,
   "id": "97b6f034",
   "metadata": {},
   "outputs": [
    {
     "data": {
      "text/html": [
       "<style>#sk-container-id-5 {color: black;background-color: white;}#sk-container-id-5 pre{padding: 0;}#sk-container-id-5 div.sk-toggleable {background-color: white;}#sk-container-id-5 label.sk-toggleable__label {cursor: pointer;display: block;width: 100%;margin-bottom: 0;padding: 0.3em;box-sizing: border-box;text-align: center;}#sk-container-id-5 label.sk-toggleable__label-arrow:before {content: \"▸\";float: left;margin-right: 0.25em;color: #696969;}#sk-container-id-5 label.sk-toggleable__label-arrow:hover:before {color: black;}#sk-container-id-5 div.sk-estimator:hover label.sk-toggleable__label-arrow:before {color: black;}#sk-container-id-5 div.sk-toggleable__content {max-height: 0;max-width: 0;overflow: hidden;text-align: left;background-color: #f0f8ff;}#sk-container-id-5 div.sk-toggleable__content pre {margin: 0.2em;color: black;border-radius: 0.25em;background-color: #f0f8ff;}#sk-container-id-5 input.sk-toggleable__control:checked~div.sk-toggleable__content {max-height: 200px;max-width: 100%;overflow: auto;}#sk-container-id-5 input.sk-toggleable__control:checked~label.sk-toggleable__label-arrow:before {content: \"▾\";}#sk-container-id-5 div.sk-estimator input.sk-toggleable__control:checked~label.sk-toggleable__label {background-color: #d4ebff;}#sk-container-id-5 div.sk-label input.sk-toggleable__control:checked~label.sk-toggleable__label {background-color: #d4ebff;}#sk-container-id-5 input.sk-hidden--visually {border: 0;clip: rect(1px 1px 1px 1px);clip: rect(1px, 1px, 1px, 1px);height: 1px;margin: -1px;overflow: hidden;padding: 0;position: absolute;width: 1px;}#sk-container-id-5 div.sk-estimator {font-family: monospace;background-color: #f0f8ff;border: 1px dotted black;border-radius: 0.25em;box-sizing: border-box;margin-bottom: 0.5em;}#sk-container-id-5 div.sk-estimator:hover {background-color: #d4ebff;}#sk-container-id-5 div.sk-parallel-item::after {content: \"\";width: 100%;border-bottom: 1px solid gray;flex-grow: 1;}#sk-container-id-5 div.sk-label:hover label.sk-toggleable__label {background-color: #d4ebff;}#sk-container-id-5 div.sk-serial::before {content: \"\";position: absolute;border-left: 1px solid gray;box-sizing: border-box;top: 0;bottom: 0;left: 50%;z-index: 0;}#sk-container-id-5 div.sk-serial {display: flex;flex-direction: column;align-items: center;background-color: white;padding-right: 0.2em;padding-left: 0.2em;position: relative;}#sk-container-id-5 div.sk-item {position: relative;z-index: 1;}#sk-container-id-5 div.sk-parallel {display: flex;align-items: stretch;justify-content: center;background-color: white;position: relative;}#sk-container-id-5 div.sk-item::before, #sk-container-id-5 div.sk-parallel-item::before {content: \"\";position: absolute;border-left: 1px solid gray;box-sizing: border-box;top: 0;bottom: 0;left: 50%;z-index: -1;}#sk-container-id-5 div.sk-parallel-item {display: flex;flex-direction: column;z-index: 1;position: relative;background-color: white;}#sk-container-id-5 div.sk-parallel-item:first-child::after {align-self: flex-end;width: 50%;}#sk-container-id-5 div.sk-parallel-item:last-child::after {align-self: flex-start;width: 50%;}#sk-container-id-5 div.sk-parallel-item:only-child::after {width: 0;}#sk-container-id-5 div.sk-dashed-wrapped {border: 1px dashed gray;margin: 0 0.4em 0.5em 0.4em;box-sizing: border-box;padding-bottom: 0.4em;background-color: white;}#sk-container-id-5 div.sk-label label {font-family: monospace;font-weight: bold;display: inline-block;line-height: 1.2em;}#sk-container-id-5 div.sk-label-container {text-align: center;}#sk-container-id-5 div.sk-container {/* jupyter's `normalize.less` sets `[hidden] { display: none; }` but bootstrap.min.css set `[hidden] { display: none !important; }` so we also need the `!important` here to be able to override the default hidden behavior on the sphinx rendered scikit-learn.org. See: https://github.com/scikit-learn/scikit-learn/issues/21755 */display: inline-block !important;position: relative;}#sk-container-id-5 div.sk-text-repr-fallback {display: none;}</style><div id=\"sk-container-id-5\" class=\"sk-top-container\"><div class=\"sk-text-repr-fallback\"><pre>DecisionTreeClassifier(max_depth=3)</pre><b>In a Jupyter environment, please rerun this cell to show the HTML representation or trust the notebook. <br />On GitHub, the HTML representation is unable to render, please try loading this page with nbviewer.org.</b></div><div class=\"sk-container\" hidden><div class=\"sk-item\"><div class=\"sk-estimator sk-toggleable\"><input class=\"sk-toggleable__control sk-hidden--visually\" id=\"sk-estimator-id-5\" type=\"checkbox\" checked><label for=\"sk-estimator-id-5\" class=\"sk-toggleable__label sk-toggleable__label-arrow\">DecisionTreeClassifier</label><div class=\"sk-toggleable__content\"><pre>DecisionTreeClassifier(max_depth=3)</pre></div></div></div></div></div>"
      ],
      "text/plain": [
       "DecisionTreeClassifier(max_depth=3)"
      ]
     },
     "execution_count": 19,
     "metadata": {},
     "output_type": "execute_result"
    }
   ],
   "source": [
    "from sklearn.tree import DecisionTreeClassifier\n",
    "dc_full = DecisionTreeClassifier(max_depth=3)\n",
    "dc_full.fit(X_train.values, y_train.values)"
   ]
  },
  {
   "cell_type": "code",
   "execution_count": 20,
   "id": "062c966c",
   "metadata": {},
   "outputs": [],
   "source": [
    "#Save the model to disk\n",
    "dc_full_filename = 'Models/dc_full_features.sav'\n",
    "pickle.dump(dc_full, open(dc_full_filename, 'wb'))"
   ]
  },
  {
   "cell_type": "markdown",
   "id": "34f402b4",
   "metadata": {},
   "source": [
    "### Building Random Forest Model for feature set after FEATURE SELECTION"
   ]
  },
  {
   "cell_type": "code",
   "execution_count": 22,
   "id": "17ffad5e",
   "metadata": {},
   "outputs": [
    {
     "data": {
      "text/html": [
       "<style>#sk-container-id-7 {color: black;background-color: white;}#sk-container-id-7 pre{padding: 0;}#sk-container-id-7 div.sk-toggleable {background-color: white;}#sk-container-id-7 label.sk-toggleable__label {cursor: pointer;display: block;width: 100%;margin-bottom: 0;padding: 0.3em;box-sizing: border-box;text-align: center;}#sk-container-id-7 label.sk-toggleable__label-arrow:before {content: \"▸\";float: left;margin-right: 0.25em;color: #696969;}#sk-container-id-7 label.sk-toggleable__label-arrow:hover:before {color: black;}#sk-container-id-7 div.sk-estimator:hover label.sk-toggleable__label-arrow:before {color: black;}#sk-container-id-7 div.sk-toggleable__content {max-height: 0;max-width: 0;overflow: hidden;text-align: left;background-color: #f0f8ff;}#sk-container-id-7 div.sk-toggleable__content pre {margin: 0.2em;color: black;border-radius: 0.25em;background-color: #f0f8ff;}#sk-container-id-7 input.sk-toggleable__control:checked~div.sk-toggleable__content {max-height: 200px;max-width: 100%;overflow: auto;}#sk-container-id-7 input.sk-toggleable__control:checked~label.sk-toggleable__label-arrow:before {content: \"▾\";}#sk-container-id-7 div.sk-estimator input.sk-toggleable__control:checked~label.sk-toggleable__label {background-color: #d4ebff;}#sk-container-id-7 div.sk-label input.sk-toggleable__control:checked~label.sk-toggleable__label {background-color: #d4ebff;}#sk-container-id-7 input.sk-hidden--visually {border: 0;clip: rect(1px 1px 1px 1px);clip: rect(1px, 1px, 1px, 1px);height: 1px;margin: -1px;overflow: hidden;padding: 0;position: absolute;width: 1px;}#sk-container-id-7 div.sk-estimator {font-family: monospace;background-color: #f0f8ff;border: 1px dotted black;border-radius: 0.25em;box-sizing: border-box;margin-bottom: 0.5em;}#sk-container-id-7 div.sk-estimator:hover {background-color: #d4ebff;}#sk-container-id-7 div.sk-parallel-item::after {content: \"\";width: 100%;border-bottom: 1px solid gray;flex-grow: 1;}#sk-container-id-7 div.sk-label:hover label.sk-toggleable__label {background-color: #d4ebff;}#sk-container-id-7 div.sk-serial::before {content: \"\";position: absolute;border-left: 1px solid gray;box-sizing: border-box;top: 0;bottom: 0;left: 50%;z-index: 0;}#sk-container-id-7 div.sk-serial {display: flex;flex-direction: column;align-items: center;background-color: white;padding-right: 0.2em;padding-left: 0.2em;position: relative;}#sk-container-id-7 div.sk-item {position: relative;z-index: 1;}#sk-container-id-7 div.sk-parallel {display: flex;align-items: stretch;justify-content: center;background-color: white;position: relative;}#sk-container-id-7 div.sk-item::before, #sk-container-id-7 div.sk-parallel-item::before {content: \"\";position: absolute;border-left: 1px solid gray;box-sizing: border-box;top: 0;bottom: 0;left: 50%;z-index: -1;}#sk-container-id-7 div.sk-parallel-item {display: flex;flex-direction: column;z-index: 1;position: relative;background-color: white;}#sk-container-id-7 div.sk-parallel-item:first-child::after {align-self: flex-end;width: 50%;}#sk-container-id-7 div.sk-parallel-item:last-child::after {align-self: flex-start;width: 50%;}#sk-container-id-7 div.sk-parallel-item:only-child::after {width: 0;}#sk-container-id-7 div.sk-dashed-wrapped {border: 1px dashed gray;margin: 0 0.4em 0.5em 0.4em;box-sizing: border-box;padding-bottom: 0.4em;background-color: white;}#sk-container-id-7 div.sk-label label {font-family: monospace;font-weight: bold;display: inline-block;line-height: 1.2em;}#sk-container-id-7 div.sk-label-container {text-align: center;}#sk-container-id-7 div.sk-container {/* jupyter's `normalize.less` sets `[hidden] { display: none; }` but bootstrap.min.css set `[hidden] { display: none !important; }` so we also need the `!important` here to be able to override the default hidden behavior on the sphinx rendered scikit-learn.org. See: https://github.com/scikit-learn/scikit-learn/issues/21755 */display: inline-block !important;position: relative;}#sk-container-id-7 div.sk-text-repr-fallback {display: none;}</style><div id=\"sk-container-id-7\" class=\"sk-top-container\"><div class=\"sk-text-repr-fallback\"><pre>DecisionTreeClassifier(max_depth=3)</pre><b>In a Jupyter environment, please rerun this cell to show the HTML representation or trust the notebook. <br />On GitHub, the HTML representation is unable to render, please try loading this page with nbviewer.org.</b></div><div class=\"sk-container\" hidden><div class=\"sk-item\"><div class=\"sk-estimator sk-toggleable\"><input class=\"sk-toggleable__control sk-hidden--visually\" id=\"sk-estimator-id-7\" type=\"checkbox\" checked><label for=\"sk-estimator-id-7\" class=\"sk-toggleable__label sk-toggleable__label-arrow\">DecisionTreeClassifier</label><div class=\"sk-toggleable__content\"><pre>DecisionTreeClassifier(max_depth=3)</pre></div></div></div></div></div>"
      ],
      "text/plain": [
       "DecisionTreeClassifier(max_depth=3)"
      ]
     },
     "execution_count": 22,
     "metadata": {},
     "output_type": "execute_result"
    }
   ],
   "source": [
    "dc_reduced = DecisionTreeClassifier(max_depth=3)\n",
    "dc_reduced.fit(X_kbest_features_train, y_train.values)"
   ]
  },
  {
   "cell_type": "code",
   "execution_count": 23,
   "id": "d4c6c8a5",
   "metadata": {},
   "outputs": [],
   "source": [
    "#Save the model to disk\n",
    "dc_reduced_filename = 'Models/dc_reduced_features.sav'\n",
    "pickle.dump(dc_reduced, open(dc_reduced_filename, 'wb'))"
   ]
  },
  {
   "cell_type": "markdown",
   "id": "9abc23ca",
   "metadata": {},
   "source": [
    "## <font style=\"color:#008fff;\">ML Modeling: Random Forest</font> "
   ]
  },
  {
   "cell_type": "markdown",
   "id": "d6f35228",
   "metadata": {},
   "source": [
    "### Building Random Forest Model for the FULL feature set:"
   ]
  },
  {
   "cell_type": "code",
   "execution_count": 24,
   "id": "0ae95010",
   "metadata": {},
   "outputs": [
    {
     "data": {
      "text/html": [
       "<style>#sk-container-id-8 {color: black;background-color: white;}#sk-container-id-8 pre{padding: 0;}#sk-container-id-8 div.sk-toggleable {background-color: white;}#sk-container-id-8 label.sk-toggleable__label {cursor: pointer;display: block;width: 100%;margin-bottom: 0;padding: 0.3em;box-sizing: border-box;text-align: center;}#sk-container-id-8 label.sk-toggleable__label-arrow:before {content: \"▸\";float: left;margin-right: 0.25em;color: #696969;}#sk-container-id-8 label.sk-toggleable__label-arrow:hover:before {color: black;}#sk-container-id-8 div.sk-estimator:hover label.sk-toggleable__label-arrow:before {color: black;}#sk-container-id-8 div.sk-toggleable__content {max-height: 0;max-width: 0;overflow: hidden;text-align: left;background-color: #f0f8ff;}#sk-container-id-8 div.sk-toggleable__content pre {margin: 0.2em;color: black;border-radius: 0.25em;background-color: #f0f8ff;}#sk-container-id-8 input.sk-toggleable__control:checked~div.sk-toggleable__content {max-height: 200px;max-width: 100%;overflow: auto;}#sk-container-id-8 input.sk-toggleable__control:checked~label.sk-toggleable__label-arrow:before {content: \"▾\";}#sk-container-id-8 div.sk-estimator input.sk-toggleable__control:checked~label.sk-toggleable__label {background-color: #d4ebff;}#sk-container-id-8 div.sk-label input.sk-toggleable__control:checked~label.sk-toggleable__label {background-color: #d4ebff;}#sk-container-id-8 input.sk-hidden--visually {border: 0;clip: rect(1px 1px 1px 1px);clip: rect(1px, 1px, 1px, 1px);height: 1px;margin: -1px;overflow: hidden;padding: 0;position: absolute;width: 1px;}#sk-container-id-8 div.sk-estimator {font-family: monospace;background-color: #f0f8ff;border: 1px dotted black;border-radius: 0.25em;box-sizing: border-box;margin-bottom: 0.5em;}#sk-container-id-8 div.sk-estimator:hover {background-color: #d4ebff;}#sk-container-id-8 div.sk-parallel-item::after {content: \"\";width: 100%;border-bottom: 1px solid gray;flex-grow: 1;}#sk-container-id-8 div.sk-label:hover label.sk-toggleable__label {background-color: #d4ebff;}#sk-container-id-8 div.sk-serial::before {content: \"\";position: absolute;border-left: 1px solid gray;box-sizing: border-box;top: 0;bottom: 0;left: 50%;z-index: 0;}#sk-container-id-8 div.sk-serial {display: flex;flex-direction: column;align-items: center;background-color: white;padding-right: 0.2em;padding-left: 0.2em;position: relative;}#sk-container-id-8 div.sk-item {position: relative;z-index: 1;}#sk-container-id-8 div.sk-parallel {display: flex;align-items: stretch;justify-content: center;background-color: white;position: relative;}#sk-container-id-8 div.sk-item::before, #sk-container-id-8 div.sk-parallel-item::before {content: \"\";position: absolute;border-left: 1px solid gray;box-sizing: border-box;top: 0;bottom: 0;left: 50%;z-index: -1;}#sk-container-id-8 div.sk-parallel-item {display: flex;flex-direction: column;z-index: 1;position: relative;background-color: white;}#sk-container-id-8 div.sk-parallel-item:first-child::after {align-self: flex-end;width: 50%;}#sk-container-id-8 div.sk-parallel-item:last-child::after {align-self: flex-start;width: 50%;}#sk-container-id-8 div.sk-parallel-item:only-child::after {width: 0;}#sk-container-id-8 div.sk-dashed-wrapped {border: 1px dashed gray;margin: 0 0.4em 0.5em 0.4em;box-sizing: border-box;padding-bottom: 0.4em;background-color: white;}#sk-container-id-8 div.sk-label label {font-family: monospace;font-weight: bold;display: inline-block;line-height: 1.2em;}#sk-container-id-8 div.sk-label-container {text-align: center;}#sk-container-id-8 div.sk-container {/* jupyter's `normalize.less` sets `[hidden] { display: none; }` but bootstrap.min.css set `[hidden] { display: none !important; }` so we also need the `!important` here to be able to override the default hidden behavior on the sphinx rendered scikit-learn.org. See: https://github.com/scikit-learn/scikit-learn/issues/21755 */display: inline-block !important;position: relative;}#sk-container-id-8 div.sk-text-repr-fallback {display: none;}</style><div id=\"sk-container-id-8\" class=\"sk-top-container\"><div class=\"sk-text-repr-fallback\"><pre>RandomForestClassifier(random_state=100)</pre><b>In a Jupyter environment, please rerun this cell to show the HTML representation or trust the notebook. <br />On GitHub, the HTML representation is unable to render, please try loading this page with nbviewer.org.</b></div><div class=\"sk-container\" hidden><div class=\"sk-item\"><div class=\"sk-estimator sk-toggleable\"><input class=\"sk-toggleable__control sk-hidden--visually\" id=\"sk-estimator-id-8\" type=\"checkbox\" checked><label for=\"sk-estimator-id-8\" class=\"sk-toggleable__label sk-toggleable__label-arrow\">RandomForestClassifier</label><div class=\"sk-toggleable__content\"><pre>RandomForestClassifier(random_state=100)</pre></div></div></div></div></div>"
      ],
      "text/plain": [
       "RandomForestClassifier(random_state=100)"
      ]
     },
     "execution_count": 24,
     "metadata": {},
     "output_type": "execute_result"
    }
   ],
   "source": [
    "from sklearn.ensemble import RandomForestClassifier\n",
    "\n",
    "rfc_full = RandomForestClassifier(n_estimators=100, random_state=100) #Random_state is a seeded value and n_estimators are the n amount of trees\n",
    "rfc_full.fit(X_train.values, y_train.values)"
   ]
  },
  {
   "cell_type": "code",
   "execution_count": 25,
   "id": "6151c624",
   "metadata": {},
   "outputs": [],
   "source": [
    "#Save the model to disk\n",
    "rfc_full_filename = 'Models/rfc_full_features.sav'\n",
    "pickle.dump(rfc_full, open(rfc_full_filename, 'wb'))"
   ]
  },
  {
   "cell_type": "markdown",
   "id": "292af427",
   "metadata": {},
   "source": [
    "### Building Random Forest Model for feature set after FEATURE SELECTION"
   ]
  },
  {
   "cell_type": "code",
   "execution_count": 26,
   "id": "3dc40997",
   "metadata": {},
   "outputs": [
    {
     "data": {
      "text/html": [
       "<style>#sk-container-id-9 {color: black;background-color: white;}#sk-container-id-9 pre{padding: 0;}#sk-container-id-9 div.sk-toggleable {background-color: white;}#sk-container-id-9 label.sk-toggleable__label {cursor: pointer;display: block;width: 100%;margin-bottom: 0;padding: 0.3em;box-sizing: border-box;text-align: center;}#sk-container-id-9 label.sk-toggleable__label-arrow:before {content: \"▸\";float: left;margin-right: 0.25em;color: #696969;}#sk-container-id-9 label.sk-toggleable__label-arrow:hover:before {color: black;}#sk-container-id-9 div.sk-estimator:hover label.sk-toggleable__label-arrow:before {color: black;}#sk-container-id-9 div.sk-toggleable__content {max-height: 0;max-width: 0;overflow: hidden;text-align: left;background-color: #f0f8ff;}#sk-container-id-9 div.sk-toggleable__content pre {margin: 0.2em;color: black;border-radius: 0.25em;background-color: #f0f8ff;}#sk-container-id-9 input.sk-toggleable__control:checked~div.sk-toggleable__content {max-height: 200px;max-width: 100%;overflow: auto;}#sk-container-id-9 input.sk-toggleable__control:checked~label.sk-toggleable__label-arrow:before {content: \"▾\";}#sk-container-id-9 div.sk-estimator input.sk-toggleable__control:checked~label.sk-toggleable__label {background-color: #d4ebff;}#sk-container-id-9 div.sk-label input.sk-toggleable__control:checked~label.sk-toggleable__label {background-color: #d4ebff;}#sk-container-id-9 input.sk-hidden--visually {border: 0;clip: rect(1px 1px 1px 1px);clip: rect(1px, 1px, 1px, 1px);height: 1px;margin: -1px;overflow: hidden;padding: 0;position: absolute;width: 1px;}#sk-container-id-9 div.sk-estimator {font-family: monospace;background-color: #f0f8ff;border: 1px dotted black;border-radius: 0.25em;box-sizing: border-box;margin-bottom: 0.5em;}#sk-container-id-9 div.sk-estimator:hover {background-color: #d4ebff;}#sk-container-id-9 div.sk-parallel-item::after {content: \"\";width: 100%;border-bottom: 1px solid gray;flex-grow: 1;}#sk-container-id-9 div.sk-label:hover label.sk-toggleable__label {background-color: #d4ebff;}#sk-container-id-9 div.sk-serial::before {content: \"\";position: absolute;border-left: 1px solid gray;box-sizing: border-box;top: 0;bottom: 0;left: 50%;z-index: 0;}#sk-container-id-9 div.sk-serial {display: flex;flex-direction: column;align-items: center;background-color: white;padding-right: 0.2em;padding-left: 0.2em;position: relative;}#sk-container-id-9 div.sk-item {position: relative;z-index: 1;}#sk-container-id-9 div.sk-parallel {display: flex;align-items: stretch;justify-content: center;background-color: white;position: relative;}#sk-container-id-9 div.sk-item::before, #sk-container-id-9 div.sk-parallel-item::before {content: \"\";position: absolute;border-left: 1px solid gray;box-sizing: border-box;top: 0;bottom: 0;left: 50%;z-index: -1;}#sk-container-id-9 div.sk-parallel-item {display: flex;flex-direction: column;z-index: 1;position: relative;background-color: white;}#sk-container-id-9 div.sk-parallel-item:first-child::after {align-self: flex-end;width: 50%;}#sk-container-id-9 div.sk-parallel-item:last-child::after {align-self: flex-start;width: 50%;}#sk-container-id-9 div.sk-parallel-item:only-child::after {width: 0;}#sk-container-id-9 div.sk-dashed-wrapped {border: 1px dashed gray;margin: 0 0.4em 0.5em 0.4em;box-sizing: border-box;padding-bottom: 0.4em;background-color: white;}#sk-container-id-9 div.sk-label label {font-family: monospace;font-weight: bold;display: inline-block;line-height: 1.2em;}#sk-container-id-9 div.sk-label-container {text-align: center;}#sk-container-id-9 div.sk-container {/* jupyter's `normalize.less` sets `[hidden] { display: none; }` but bootstrap.min.css set `[hidden] { display: none !important; }` so we also need the `!important` here to be able to override the default hidden behavior on the sphinx rendered scikit-learn.org. See: https://github.com/scikit-learn/scikit-learn/issues/21755 */display: inline-block !important;position: relative;}#sk-container-id-9 div.sk-text-repr-fallback {display: none;}</style><div id=\"sk-container-id-9\" class=\"sk-top-container\"><div class=\"sk-text-repr-fallback\"><pre>RandomForestClassifier(random_state=100)</pre><b>In a Jupyter environment, please rerun this cell to show the HTML representation or trust the notebook. <br />On GitHub, the HTML representation is unable to render, please try loading this page with nbviewer.org.</b></div><div class=\"sk-container\" hidden><div class=\"sk-item\"><div class=\"sk-estimator sk-toggleable\"><input class=\"sk-toggleable__control sk-hidden--visually\" id=\"sk-estimator-id-9\" type=\"checkbox\" checked><label for=\"sk-estimator-id-9\" class=\"sk-toggleable__label sk-toggleable__label-arrow\">RandomForestClassifier</label><div class=\"sk-toggleable__content\"><pre>RandomForestClassifier(random_state=100)</pre></div></div></div></div></div>"
      ],
      "text/plain": [
       "RandomForestClassifier(random_state=100)"
      ]
     },
     "execution_count": 26,
     "metadata": {},
     "output_type": "execute_result"
    }
   ],
   "source": [
    "rfc_reduced = RandomForestClassifier(n_estimators=100, random_state=100) #Random_state is a seeded value and n_estimators are the n amount of trees\n",
    "rfc_reduced.fit(X_kbest_features_train, y_train.values)"
   ]
  },
  {
   "cell_type": "code",
   "execution_count": 27,
   "id": "30f13bcc",
   "metadata": {},
   "outputs": [],
   "source": [
    "#Save the model to disk\n",
    "rfc_reduced_filename = 'Models/rfc_reduced_features.sav'\n",
    "pickle.dump(rfc_reduced, open(rfc_reduced_filename, 'wb'))"
   ]
  },
  {
   "cell_type": "markdown",
   "id": "d6c3b2b5",
   "metadata": {},
   "source": [
    "## <font style=\"color:#008fff;\">Preprocess Testing Data to Fit Into Our ML Models</font>"
   ]
  },
  {
   "cell_type": "code",
   "execution_count": 29,
   "id": "9a6de4a3",
   "metadata": {},
   "outputs": [],
   "source": [
    "from profanity_check import predict_prob, predict\n",
    "from urllib.parse import urlparse\n",
    "from tld import get_tld\n",
    "\n",
    "# Getting rid of outliers using clamp transformation\n",
    "def find_outliers_IQR(df):\n",
    "    q1=df.quantile(0.25)\n",
    "    q3=df.quantile(0.75)\n",
    "    IQR=q3-q1\n",
    "    \n",
    "    for index, val in df.iteritems():\n",
    "        if val < (q1 - 1.5 * IQR): # Small outliers below lower quartile\n",
    "            df[index] = (q1 - 1.5 * IQR)\n",
    "        elif val > (q3 + 1.5 * IQR): # Large outliers above upper quartile\n",
    "            df[index] = (q3 + 1.5 * IQR)\n",
    "\n",
    "    return df\n",
    "\n",
    "# If tld == gov, then is_gov_tld = 1, else gov_tld = 0\n",
    "def make_gov_column(df):\n",
    "    gov_col = []\n",
    "    for index, val in df.iteritems():\n",
    "        if val == 'gov':\n",
    "            gov_col.append(1)\n",
    "        else:\n",
    "            gov_col.append(0)\n",
    "    return np.array(gov_col)\n",
    "\n",
    "\n",
    "def clean_url(url):\n",
    "    url_text=\"\"\n",
    "    try:\n",
    "        domain = get_tld(url, as_object=True)\n",
    "        domain = get_tld(url, as_object=True)\n",
    "        url_parsed = urlparse(url)\n",
    "        url_text= url_parsed.netloc.replace(domain.tld,\" \").replace('www',' ') +\" \"+ url_parsed.path+\" \"+url_parsed.params+\" \"+url_parsed.query+\" \"+url_parsed.fragment\n",
    "        url_text = url_text.translate(str.maketrans({'?':' ','\\\\':' ','.':' ',';':' ','/':' ','\\'':' '}))\n",
    "        url_text.strip(' ')\n",
    "        url_text.lower()\n",
    "    except:\n",
    "        url_text = url_text.translate(str.maketrans({'?':' ','\\\\':' ','.':' ',';':' ','/':' ','\\'':' '}))\n",
    "        url_text.strip(' ')\n",
    "    return url_text\n",
    "\n",
    "def predict_profanity(url_cleaned):\n",
    "    arr=predict_prob(url_cleaned.astype(str).to_numpy())\n",
    "    arr= arr.round(decimals=3)\n",
    "    #df['url_vect'] = pd.DataFrame(data=arr,columns=['url_vect'])\n",
    "    return arr"
   ]
  },
  {
   "cell_type": "code",
   "execution_count": 79,
   "id": "73ba5ec0",
   "metadata": {},
   "outputs": [],
   "source": [
    "def preprocess(df):\n",
    "    start_time= time.time()\n",
    "\n",
    "    # ------------ Address outliers via clamp transformation --------------\n",
    "    url_len_clamped = df['url_len'].copy()\n",
    "    url_len_clamped = find_outliers_IQR(url_len_clamped)\n",
    "    js_len_clamped = df['js_len'].copy()\n",
    "    js_len_clamped = find_outliers_IQR(js_len_clamped)\n",
    "    js_obf_len_clamped = df['js_obf_len'].copy()\n",
    "    js_obf_len_clamped = find_outliers_IQR(js_obf_len_clamped)\n",
    "    \n",
    "    df['url_len'] = url_len_clamped\n",
    "    df['js_len'] = js_len_clamped\n",
    "    df['js_obf_len'] = js_obf_len_clamped\n",
    "    \n",
    "    # --------------- Scaling numerical features ---------------\n",
    "    from sklearn.preprocessing import MinMaxScaler\n",
    "    scaler = MinMaxScaler()\n",
    "    \n",
    "    url_len_scaled = scaler.fit_transform(df[['url_len']])\n",
    "    df['url_len_scaled'] = url_len_scaled\n",
    "\n",
    "    js_len_scaled = scaler.fit_transform(df[['js_len']])\n",
    "    df['js_len_scaled'] = js_len_scaled\n",
    "\n",
    "    js_obf_len_scaled = scaler.fit_transform(df[['js_obf_len']])\n",
    "    df['js_obf_len_scaled'] = js_obf_len_scaled\n",
    "    \n",
    "    \n",
    "    # ---------------- Binary Encoding for Categorical Attributes ------------------\n",
    "    identifyWho_Is = {'incomplete': 0, 'complete': 1}\n",
    "    df['who_is'] = [identifyWho_Is[item] for item in df.who_is]\n",
    "    \n",
    "    identifyHTTPS = {'no': 0, 'yes': 1}\n",
    "    df.https = [identifyHTTPS[item] for item in df.https]\n",
    "    \n",
    "    # --------------- Handling TLD Column -------------------------\n",
    "    gov_binary_val = make_gov_column(df['tld'])\n",
    "    df.insert(2, column = \"is_gov_tld\", value=gov_binary_val)\n",
    "    \n",
    "    \n",
    "    # ---------------- Probabilty based profanity score on text columnsk ------------------\n",
    "    from profanity_check import predict_prob, predict\n",
    "    profanity_score_prob = predict_prob(np.array(df['content']))\n",
    "    df.insert(5, column='profanity_score_prob', value=profanity_score_prob)\n",
    "    \n",
    "    \n",
    "    # ------------------ Cleaning URL's --------------------\n",
    "    url_cleaned = df['url'].map(clean_url)\n",
    "    df.insert(1, column='url_cleaned', value=url_cleaned)\n",
    "    url_vect = predict_profanity(df['url_cleaned'])\n",
    "    df.insert(2, column='url_vect', value=url_vect)\n",
    "    \n",
    "    # ---------------------- Preprocess labels into binary values ----------------------\n",
    "    identifyLabels = {'bad': 1, 'good': 0}\n",
    "    df['label'] = [identifyLabels[item] for item  in df.label]\n",
    "    \n",
    "    # ------------ Drop Unecessary Columns, or Original Columns after preprocessing that still remain -------------\n",
    "    df.drop(['geo_loc', 'ip_add', 'url_len', 'js_len', 'js_obf_len', 'tld', 'content', 'url', 'url_cleaned'], axis=1, inplace=True)\n",
    "    \n",
    "    # ---------------------- Rearrange Columns ----------------------\n",
    "    titles = ['url_vect', 'is_gov_tld', 'who_is', 'https', 'profanity_score_prob', \n",
    "              'url_len_scaled', 'js_len_scaled','js_obf_len_scaled',\n",
    "              'label'] # Same order as our training data\n",
    "\n",
    "    df = df[titles] \n",
    "    \n",
    "    print(\"***Elapsed time preprocess --- %s seconds ---***\" % (time.time() - start_time))\n",
    "    return df"
   ]
  },
  {
   "cell_type": "code",
   "execution_count": 95,
   "id": "147e0618",
   "metadata": {},
   "outputs": [
    {
     "name": "stdout",
     "output_type": "stream",
     "text": [
      "***Elapsed time to read csv files --- 17.733562469482422 seconds ---***\n"
     ]
    }
   ],
   "source": [
    "df_test = loadDataset(\"Dataset/Webpages_Classification_test_data.csv\", idx_col=True)"
   ]
  },
  {
   "cell_type": "code",
   "execution_count": 96,
   "id": "e6d13afd",
   "metadata": {},
   "outputs": [
    {
     "data": {
      "text/plain": [
       "(361934, 11)"
      ]
     },
     "execution_count": 96,
     "metadata": {},
     "output_type": "execute_result"
    }
   ],
   "source": [
    "df_test.shape"
   ]
  },
  {
   "cell_type": "markdown",
   "id": "96eef3f7",
   "metadata": {},
   "source": [
    "### NOTE: Our current training dataset has 54,506 columns when running df_train_preprocessed.shape. But, our test dataset has 361,934 when running df_test.shape. We plan to make our training split be 80% and testing split be 20%. Therefore, we can reduce our test split by sampling ~13,627 rows to make the size of our testing data proportional to test data"
   ]
  },
  {
   "cell_type": "code",
   "execution_count": 98,
   "id": "fe96e85b",
   "metadata": {},
   "outputs": [
    {
     "name": "stdout",
     "output_type": "stream",
     "text": [
      "Training 0.7999941291297903\n",
      "Testing 0.20000587087020974\n"
     ]
    }
   ],
   "source": [
    "# Doing the math to see if our calculations were correct\n",
    "training_num = 54506 # Rows training data has\n",
    "testing_num = 13627 # Columns testing data is planned to be sampled to out of 361,934\n",
    "total = training_num + testing_num\n",
    "\n",
    "print(f'Training {training_num/total}')\n",
    "print(f'Testing {testing_num/total}')"
   ]
  },
  {
   "cell_type": "code",
   "execution_count": 107,
   "id": "1e5e84e2",
   "metadata": {},
   "outputs": [],
   "source": [
    "df_test_sampled = df_test.head(13627) # Sampling our test set"
   ]
  },
  {
   "cell_type": "code",
   "execution_count": 108,
   "id": "233063cb",
   "metadata": {},
   "outputs": [
    {
     "name": "stdout",
     "output_type": "stream",
     "text": [
      "***Elapsed time preprocess --- 5.183773517608643 seconds ---***\n"
     ]
    }
   ],
   "source": [
    "df_test_preprocessed = preprocess(df_test_sampled)"
   ]
  },
  {
   "cell_type": "code",
   "execution_count": 155,
   "id": "1239a036",
   "metadata": {},
   "outputs": [],
   "source": [
    "# Saving preprocessed testing dataset into disk\n",
    "df_test_preprocessed.to_csv('Dataset/preprocessed_testing_data.csv', index=False)"
   ]
  },
  {
   "cell_type": "markdown",
   "id": "9f63ef76",
   "metadata": {},
   "source": [
    "## <font style=\"color:#008fff;\">Performance Evaluation of Each ML Model</font>\n",
    " - Apply 4 or more performance metrics to analyze the results\n",
    " - Include 3 or more visualization techniques for presenting the results\n",
    " - Compare and analyze all the ML models that you have built for the project and present the performance analysis"
   ]
  },
  {
   "cell_type": "code",
   "execution_count": 194,
   "id": "1e8f5dfc",
   "metadata": {},
   "outputs": [],
   "source": [
    "# Splitting our test dataset into X and y\n",
    "X_test = pd.read_csv('Dataset/preprocessed_testing_data.csv').drop('label', axis=1)\n",
    "y_test = pd.read_csv('Dataset/preprocessed_testing_data.csv')['label']\n",
    "\n",
    "X_test = pd.read_csv('Dataset/preprocessed_testing_data.csv')\n",
    "y_test = pd.read_csv('Dataset/preprocessed_training_data.csv')\n",
    "\n",
    "# X_test, but only with columns we've chosen during feature selection\n",
    "chosen_features = ['who_is', 'https', 'profanity_score_prob', 'js_len_scaled', 'js_obf_len_scaled']\n",
    "X_kbest_features_test = X_test[chosen_features].values"
   ]
  },
  {
   "cell_type": "code",
   "execution_count": 219,
   "id": "e3b262e1",
   "metadata": {},
   "outputs": [],
   "source": [
    "from sklearn.metrics import confusion_matrix, accuracy_score, precision_score, recall_score, f1_score, classification_report\n",
    "import seaborn as sns\n",
    "import matplotlib.pyplot as plt\n",
    "from sklearn.metrics import RocCurveDisplay"
   ]
  },
  {
   "cell_type": "markdown",
   "id": "784b0db6",
   "metadata": {},
   "source": [
    "### Loading all of our currently saved machine learning models from disk"
   ]
  },
  {
   "cell_type": "code",
   "execution_count": null,
   "id": "f9005194",
   "metadata": {},
   "outputs": [],
   "source": [
    "# ---------------------- KNN ----------------------\n",
    "knn_full_filename = 'Models/knn_full_features.sav' # Full feature set\n",
    "knn_full = pickle.load(open(knn_full_filename, 'rb'))\n",
    "\n",
    "knn_reduced_filename = 'Models/knn_reduced_features.sav' # Reduced feature set\n",
    "knn_reduced = pickle.load(open(knn_reduced_filename, 'rb'))\n",
    "\n",
    "\n",
    "# ---------------------- Naive Bayes ----------------------\n",
    "gnb_full_filename = 'Models/gnb_full_features.sav'\n",
    "gnb_full = pickle.load(open(gnb_full_filename, 'rb'))\n",
    "\n",
    "gnb_reduced_filename = 'Models/gnb_reduced_features.sav'\n",
    "gnb_reduced = pickle.load(open(gnb_reduced_filename, 'rb'))\n",
    "\n",
    "\n",
    "# ---------------------- Decision Trees ----------------------\n",
    "dc_full_filename = 'Models/dc_full_features.sav'\n",
    "dc_full = pickle.load(open(dc_full_filename, 'rb'))\n",
    "\n",
    "dc_reduced_filename = 'Models/dc_reduced_features.sav'\n",
    "dc_reduced = pickle.load(open(dc_reduced_filename, 'rb'))\n",
    "\n",
    "\n",
    "# ---------------------- Random Forest ----------------------\n",
    "rfc_full_filename = 'Models/rfc_full_features.sav'\n",
    "rfc_full = pickle.load(open(rfc_full_filename, 'rb'))\n",
    "\n",
    "rfc_reduced_filename = 'Models/rfc_reduced_features.sav'\n",
    "rfc_reduced = pickle.load(open(rfc_reduced_filename, 'rb'))"
   ]
  },
  {
   "cell_type": "markdown",
   "id": "1af0f224",
   "metadata": {},
   "source": [
    "### Useful functions for evaluation/visualization:\n",
    " - Evaluation Scores we will be using: **Accuracy, Precision, Recall, F1-Score, AUC**\n",
    " - Visualization techniques for evaluation: **Confusion matrix, ROC, Classification Report**"
   ]
  },
  {
   "cell_type": "code",
   "execution_count": 220,
   "id": "bf0e7e56",
   "metadata": {},
   "outputs": [],
   "source": [
    "def draw_conf_matrix(actual, predicted, title):\n",
    "    plt.figure(figsize = (7,5))\n",
    "    plt.title(title)\n",
    "    plt.ylabel('True label')\n",
    "    plt.xlabel('Predicted label')\n",
    "\n",
    "    cf_matrix = confusion_matrix(actual, predicted)\n",
    "    ht_mp = sns.heatmap(cf_matrix, annot=True, fmt='g')\n",
    "    \n",
    "    # **NOTE: In this case: Legitimate (NOT Malicious) is our NEGATIVE class, while Malicious is our POSITIVE class**\n",
    "    ht_mp.set(xlabel='Predicted', ylabel='Actual', \n",
    "              xticklabels=['Not Malicious (Negative)', 'Malicious (Positive)'], \n",
    "              yticklabels=['Not Malicious (Negative)', 'Malicious (Positive)'])\n",
    "        \n",
    "def plot_show_auc(actual, predicted, title):\n",
    "    RocCurveDisplay.from_predictions(predicted, actual)\n",
    "    plt.title(title)\n",
    "    plt.plot([0, 1], [0, 1], linestyle='--', color='red', label='Random guessing')\n",
    "    plt.legend(loc=\"lower right\")\n",
    "    plt.show()\n",
    "\n",
    "    from sklearn.metrics import roc_auc_score\n",
    "    print(f'Our Area Under the Curve {roc_auc_score(predicted, actual)}')"
   ]
  },
  {
   "cell_type": "markdown",
   "id": "c65ba776",
   "metadata": {},
   "source": [
    "### Evaluating KNN using full features"
   ]
  },
  {
   "cell_type": "code",
   "execution_count": 221,
   "id": "0a23f81b",
   "metadata": {},
   "outputs": [],
   "source": [
    "knn_full_predictions = knn_full.predict(X_test.values)"
   ]
  },
  {
   "cell_type": "code",
   "execution_count": 222,
   "id": "da0f0248",
   "metadata": {},
   "outputs": [
    {
     "data": {
      "image/png": "[encoded data removed]",
      "text/plain": [
       "<Figure size 700x500 with 2 Axes>"
      ]
     },
     "metadata": {},
     "output_type": "display_data"
    }
   ],
   "source": [
    "draw_conf_matrix(actual=y_test, predicted=knn_full_predictions, title=\"Confusion Matrix (KNN Full Dataset)\")"
   ]
  },
  {
   "cell_type": "code",
   "execution_count": 224,
   "id": "30132809",
   "metadata": {},
   "outputs": [
    {
     "name": "stdout",
     "output_type": "stream",
     "text": [
      "              precision    recall  f1-score   support\n",
      "\n",
      "           0       1.00      0.73      0.84     13344\n",
      "           1       0.07      1.00      0.13       283\n",
      "\n",
      "    accuracy                           0.73     13627\n",
      "   macro avg       0.54      0.86      0.49     13627\n",
      "weighted avg       0.98      0.73      0.83     13627\n",
      "\n"
     ]
    }
   ],
   "source": [
    "print(classification_report(y_true=y_test, y_pred=knn_full_predictions))"
   ]
  },
  {
   "cell_type": "code",
   "execution_count": 218,
   "id": "4e8cfb4c",
   "metadata": {},
   "outputs": [
    {
     "data": {
      "image/png": "[encoded data removed]",
      "text/plain": [
       "<Figure size 640x480 with 1 Axes>"
      ]
     },
     "metadata": {},
     "output_type": "display_data"
    },
    {
     "name": "stdout",
     "output_type": "stream",
     "text": [
      "Our Area Under the Curve 0.5358137180460643\n"
     ]
    }
   ],
   "source": [
    "plot_show_auc(actual=y_test, predicted=knn_full_predictions, title=\"Confusion Matrix (KNN Full Dataset)\")"
   ]
  },
  {
   "cell_type": "markdown",
   "id": "81b274af",
   "metadata": {},
   "source": [
    "### Evaluating KNN using feature reduction"
   ]
  },
  {
   "cell_type": "code",
   "execution_count": 195,
   "id": "3ed2bbcf",
   "metadata": {},
   "outputs": [],
   "source": [
    "knn_reduced_predictions = knn_reduced.predict(X_kbest_features_test)"
   ]
  },
  {
   "cell_type": "code",
   "execution_count": 196,
   "id": "970521e0",
   "metadata": {},
   "outputs": [
    {
     "name": "stdout",
     "output_type": "stream",
     "text": [
      "Accuracy: 0.5814926249357892\n",
      "Precision: 1.0\n",
      "Recall: 0.04727697961911126\n",
      "F1: 0.09028553198277237\n"
     ]
    },
    {
     "data": {
      "image/png": "[encoded data removed]",
      "text/plain": [
       "<Figure size 700x500 with 2 Axes>"
      ]
     },
     "metadata": {},
     "output_type": "display_data"
    }
   ],
   "source": [
    "draw_conf_matrix(actual=y_test, predicted=knn_reduced_predictions, title=\"Confusion Matrix (KNN Reduced Dataset)\")"
   ]
  },
  {
   "cell_type": "code",
   "execution_count": null,
   "id": "1eb1d633",
   "metadata": {},
   "outputs": [],
   "source": []
  }
 ],
 "metadata": {
  "kernelspec": {
   "display_name": "Python 3 (ipykernel)",
   "language": "python",
   "name": "python3"
  },
  "language_info": {
   "codemirror_mode": {
    "name": "ipython",
    "version": 3
   },
   "file_extension": ".py",
   "mimetype": "text/x-python",
   "name": "python",
   "nbconvert_exporter": "python",
   "pygments_lexer": "ipython3",
   "version": "3.9.13"
  }
 },
 "nbformat": 4,
 "nbformat_minor": 5
}
